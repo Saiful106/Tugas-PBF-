{
  "nbformat": 4,
  "nbformat_minor": 0,
  "metadata": {
    "colab": {
      "provenance": []
    },
    "kernelspec": {
      "name": "python3",
      "display_name": "Python 3"
    },
    "language_info": {
      "name": "python"
    }
  },
  "cells": [
    {
      "cell_type": "code",
      "execution_count": 1,
      "metadata": {
        "colab": {
          "base_uri": "https://localhost:8080/"
        },
        "id": "4Dp4xCNpce8i",
        "outputId": "0f4ef630-91dd-4f20-e873-ac1c98e92e8c"
      },
      "outputs": [
        {
          "output_type": "stream",
          "name": "stdout",
          "text": [
            "Masukkan Password Anda : Saiful\n",
            "Password awal Anda : Saiful\n",
            "Password terenkripsi : SU-Sc-TQ+Sh-T]-TT+\n"
          ]
        }
      ],
      "source": [
        "def encryption(password):\n",
        "    result = \"\"\n",
        "    for char in password:\n",
        "        ascii = ord(char)  \n",
        "        value_pertama = (ascii / 26) + 80     \n",
        "        value_kedua = (ascii % 26) + 80    \n",
        "\n",
        "        if value_pertama > value_kedua:  \n",
        "            value_ketiga = \"+\"\n",
        "        else:\n",
        "            value_ketiga = \"-\"\n",
        "        result += chr(int(value_pertama)) + chr(int(value_kedua)) + value_ketiga \n",
        "    return result\n",
        "\n",
        "password = input(\"Masukkan Password Anda : \")\n",
        "if len(password) > 100:\n",
        "    print(\" Password anda eror karena terlalu panjang.\")\n",
        "else:\n",
        "    encrypted_password = encryption(password)\n",
        "    print(\"Password awal Anda : \" + password)\n",
        "    print(\"Password terenkripsi : \" + encrypted_password)"
      ]
    }
  ]
}